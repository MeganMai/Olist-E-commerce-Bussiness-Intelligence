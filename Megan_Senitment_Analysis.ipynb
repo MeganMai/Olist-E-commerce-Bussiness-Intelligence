{
 "cells": [
  {
   "cell_type": "code",
   "execution_count": 78,
   "metadata": {},
   "outputs": [],
   "source": [
    "import pyodbc\n",
    "import pandas as pd\n",
    "import matplotlib.pyplot as plt\n",
    "import numpy as np\n",
    "import nltk\n"
   ]
  },
  {
   "cell_type": "code",
   "execution_count": 79,
   "metadata": {},
   "outputs": [],
   "source": [
    "from nltk.sentiment.vader import SentimentIntensityAnalyzer\n"
   ]
  },
  {
   "cell_type": "code",
   "execution_count": 80,
   "metadata": {},
   "outputs": [
    {
     "name": "stderr",
     "output_type": "stream",
     "text": [
      "[nltk_data] Downloading package names to\n",
      "[nltk_data]     C:\\Users\\Admin\\AppData\\Roaming\\nltk_data...\n",
      "[nltk_data]   Package names is already up-to-date!\n",
      "[nltk_data] Downloading package stopwords to\n",
      "[nltk_data]     C:\\Users\\Admin\\AppData\\Roaming\\nltk_data...\n",
      "[nltk_data]   Package stopwords is already up-to-date!\n",
      "[nltk_data] Downloading package state_union to\n",
      "[nltk_data]     C:\\Users\\Admin\\AppData\\Roaming\\nltk_data...\n",
      "[nltk_data]   Package state_union is already up-to-date!\n",
      "[nltk_data] Downloading package twitter_samples to\n",
      "[nltk_data]     C:\\Users\\Admin\\AppData\\Roaming\\nltk_data...\n",
      "[nltk_data]   Package twitter_samples is already up-to-date!\n",
      "[nltk_data] Downloading package movie_reviews to\n",
      "[nltk_data]     C:\\Users\\Admin\\AppData\\Roaming\\nltk_data...\n",
      "[nltk_data]   Package movie_reviews is already up-to-date!\n",
      "[nltk_data] Downloading package averaged_perceptron_tagger to\n",
      "[nltk_data]     C:\\Users\\Admin\\AppData\\Roaming\\nltk_data...\n",
      "[nltk_data]   Package averaged_perceptron_tagger is already up-to-\n",
      "[nltk_data]       date!\n",
      "[nltk_data] Downloading package vader_lexicon to\n",
      "[nltk_data]     C:\\Users\\Admin\\AppData\\Roaming\\nltk_data...\n",
      "[nltk_data]   Package vader_lexicon is already up-to-date!\n",
      "[nltk_data] Downloading package punkt to\n",
      "[nltk_data]     C:\\Users\\Admin\\AppData\\Roaming\\nltk_data...\n",
      "[nltk_data]   Package punkt is already up-to-date!\n"
     ]
    },
    {
     "data": {
      "text/plain": [
       "True"
      ]
     },
     "execution_count": 80,
     "metadata": {},
     "output_type": "execute_result"
    }
   ],
   "source": [
    "nltk.download([\n",
    "\"names\",\n",
    "\"stopwords\",\n",
    "\"state_union\",\n",
    "\"twitter_samples\",\n",
    "\"movie_reviews\",\n",
    "\"averaged_perceptron_tagger\",\n",
    "\"vader_lexicon\",\n",
    "\"punkt\",\n",
    "])"
   ]
  },
  {
   "cell_type": "code",
   "execution_count": 81,
   "metadata": {},
   "outputs": [],
   "source": [
    "sid = SentimentIntensityAnalyzer()\n"
   ]
  },
  {
   "cell_type": "code",
   "execution_count": 82,
   "metadata": {},
   "outputs": [
    {
     "data": {
      "text/plain": [
       "{'neg': 0.0, 'neu': 0.295, 'pos': 0.705, 'compound': 0.8012}"
      ]
     },
     "execution_count": 82,
     "metadata": {},
     "output_type": "execute_result"
    }
   ],
   "source": [
    "sid.polarity_scores(\"Wow, NLTK is really powerful!\")"
   ]
  },
  {
   "cell_type": "code",
   "execution_count": 83,
   "metadata": {},
   "outputs": [
    {
     "name": "stdout",
     "output_type": "stream",
     "text": [
      "                          review_id                          order_id  \\\n",
      "0  7bc2406110b926393aa56f80a40eba40  73fc7af87114b39712e6da79b0a377eb   \n",
      "1  80e641a11e56f04c1ad469d5645fdfde  a548910a1c6147796b98fdf73dbeba33   \n",
      "2  228ce5500dc1d8e020d8d1322874b6f0  f9e4b658b201a9f2ecdecbb34bed034b   \n",
      "3  e64fb393e7b32834bb789ff8bb30750e  658677c97b385a9be170737859d3511b   \n",
      "4  f7c4243c7fe1938f181bec41a392bdeb  8e6bfb81e283fa7e4f11123a3fb894f1   \n",
      "\n",
      "   review_score review_comment_title  \\\n",
      "0             4                  NaN   \n",
      "1             5                  NaN   \n",
      "2             5                  NaN   \n",
      "3             5                  NaN   \n",
      "4             5                  NaN   \n",
      "\n",
      "                              review_comment_message review_creation_date  \\\n",
      "0                                                NaN  2018-01-18 00:00:00   \n",
      "1                                                NaN  2018-03-10 00:00:00   \n",
      "2                                                NaN  2018-02-17 00:00:00   \n",
      "3              Recebi bem antes do prazo estipulado.  2017-04-21 00:00:00   \n",
      "4  Parabéns lojas lannister adorei comprar pela I...  2018-03-01 00:00:00   \n",
      "\n",
      "  review_answer_timestamp  \n",
      "0     2018-01-18 21:46:59  \n",
      "1     2018-03-11 03:05:13  \n",
      "2     2018-02-18 14:36:24  \n",
      "3     2017-04-21 22:02:06  \n",
      "4     2018-03-02 10:26:53  \n"
     ]
    }
   ],
   "source": [
    "reviews_po=pd.read_csv('olist_order_reviews_dataset.csv')\n",
    "print(reviews_po.head())"
   ]
  },
  {
   "cell_type": "code",
   "execution_count": 84,
   "metadata": {},
   "outputs": [],
   "source": [
    "def remove(x):\n",
    "    pattern = \"['\\n',@\\'?\\.$%_0-9]\"\n",
    "    x = [re.sub(pattern, '', i) for i in x]\n",
    "    return x"
   ]
  },
  {
   "cell_type": "code",
   "execution_count": 85,
   "metadata": {},
   "outputs": [
    {
     "name": "stdout",
     "output_type": "stream",
     "text": [
      "                                                 reviews                 time\n",
      "3                  Recebi bem antes do prazo estipulado.  2017-04-21 22:02:06\n",
      "4      Parabéns lojas lannister adorei comprar pela I...  2018-03-02 10:26:53\n",
      "9      aparelho eficiente. no site a marca do aparelh...  2018-05-23 16:45:47\n",
      "12       Mas um pouco ,travando...pelo valor ta Boa.\\r\\n  2018-02-20 10:52:22\n",
      "15     Vendedor confiável, produto ok e entrega antes...  2018-05-24 03:00:01\n",
      "...                                                  ...                  ...\n",
      "99205  para este produto recebi de acordo com a compr...  2017-11-30 15:52:51\n",
      "99208  Entregou dentro do prazo. O produto chegou em ...  2018-02-19 19:47:23\n",
      "99215  O produto não foi enviado com NF, não existe v...  2018-05-20 21:51:06\n",
      "99221  Excelente mochila, entrega super rápida. Super...  2018-03-23 09:10:43\n",
      "99223  meu produto chegou e ja tenho que devolver, po...  2017-07-03 21:01:49\n",
      "\n",
      "[40977 rows x 2 columns]\n"
     ]
    }
   ],
   "source": [
    "df=pd.DataFrame()\n",
    "df['reviews']=reviews_po['review_comment_message'].dropna()\n",
    "#df['reviews']=(reviews_po['review_comment_title']+reviews_po['review_comment_message']).dropna()\n",
    "df['time']=reviews_po['review_answer_timestamp']\n",
    "print(df)"
   ]
  },
  {
   "cell_type": "code",
   "execution_count": 86,
   "metadata": {},
   "outputs": [
    {
     "name": "stdout",
     "output_type": "stream",
     "text": [
      "                                              reviews                 time  \\\n",
      "3               Recebi bem antes do prazo estipulado.  2017-04-21 22:02:06   \n",
      "4   Parabéns lojas lannister adorei comprar pela I...  2018-03-02 10:26:53   \n",
      "9   aparelho eficiente. no site a marca do aparelh...  2018-05-23 16:45:47   \n",
      "12    Mas um pouco ,travando...pelo valor ta Boa.\\r\\n  2018-02-20 10:52:22   \n",
      "15  Vendedor confiável, produto ok e entrega antes...  2018-05-24 03:00:01   \n",
      "\n",
      "      neg    neu    pos  compound  \n",
      "3   0.000  1.000  0.000     0.000  \n",
      "4   0.000  1.000  0.000     0.000  \n",
      "9   0.084  0.916  0.000    -0.296  \n",
      "12  0.000  1.000  0.000     0.000  \n",
      "15  0.000  0.761  0.239     0.296  \n"
     ]
    }
   ],
   "source": [
    "df['neg'] = df['reviews'].apply(lambda x: sid.polarity_scores(x)['neg'])\n",
    "df['neu'] = df['reviews'].apply(lambda x:sid.polarity_scores(x)['neu'])\n",
    "df['pos'] = df['reviews'].apply(lambda x:sid.polarity_scores(x)['pos'])\n",
    "df['compound'] = df['reviews'].apply(lambda x:sid.polarity_scores(x)['compound'])\n",
    "print(df.head())"
   ]
  },
  {
   "cell_type": "code",
   "execution_count": 87,
   "metadata": {},
   "outputs": [],
   "source": [
    "df.to_csv('reviews_setiment.csv')"
   ]
  }
 ],
 "metadata": {
  "kernelspec": {
   "display_name": "Python 3.10.5 64-bit (windows store)",
   "language": "python",
   "name": "python3"
  },
  "language_info": {
   "codemirror_mode": {
    "name": "ipython",
    "version": 3
   },
   "file_extension": ".py",
   "mimetype": "text/x-python",
   "name": "python",
   "nbconvert_exporter": "python",
   "pygments_lexer": "ipython3",
   "version": "3.10.5"
  },
  "orig_nbformat": 4,
  "vscode": {
   "interpreter": {
    "hash": "58dbfdb34cf82127b32c5737e6183911655ff227e5c11e8f5e4b25048ae98ef2"
   }
  }
 },
 "nbformat": 4,
 "nbformat_minor": 2
}
